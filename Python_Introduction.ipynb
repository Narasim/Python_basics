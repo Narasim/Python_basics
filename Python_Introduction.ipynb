{
 "cells": [
  {
   "cell_type": "code",
   "execution_count": 1,
   "metadata": {},
   "outputs": [],
   "source": [
    "# Introduction\n",
    "import numpy as np"
   ]
  },
  {
   "cell_type": "code",
   "execution_count": 4,
   "metadata": {},
   "outputs": [
    {
     "name": "stdout",
     "output_type": "stream",
     "text": [
      "[1 2 3]\n"
     ]
    }
   ],
   "source": [
    "vector_row = np.array([1,2,3])\n",
    "print(vector_row)"
   ]
  },
  {
   "cell_type": "code",
   "execution_count": 7,
   "metadata": {},
   "outputs": [
    {
     "name": "stdout",
     "output_type": "stream",
     "text": [
      "[[1]\n",
      " [2]\n",
      " [3]]\n"
     ]
    }
   ],
   "source": [
    "vector_col = np.array([[1],\n",
    "                       [2],\n",
    "                       [3]])\n",
    "print(vector_col)"
   ]
  },
  {
   "cell_type": "code",
   "execution_count": 8,
   "metadata": {},
   "outputs": [
    {
     "name": "stdout",
     "output_type": "stream",
     "text": [
      "[[1 2]\n",
      " [2 3]\n",
      " [4 5]]\n"
     ]
    }
   ],
   "source": [
    "# Matrix\n",
    "normal_matrix = np.array([[1,2],[2,3],[4,5]])\n",
    "print(normal_matrix)"
   ]
  },
  {
   "cell_type": "code",
   "execution_count": 9,
   "metadata": {},
   "outputs": [
    {
     "name": "stdout",
     "output_type": "stream",
     "text": [
      "[[1 0]\n",
      " [0 0]\n",
      " [0 3]]\n"
     ]
    }
   ],
   "source": [
    "# Sparse Matrix\n",
    "sparse_matrix = np.array([[1,0],[0,0],[0,3]])\n",
    "print(sparse_matrix)"
   ]
  },
  {
   "cell_type": "code",
   "execution_count": 11,
   "metadata": {},
   "outputs": [
    {
     "name": "stdout",
     "output_type": "stream",
     "text": [
      "[[0 0 0 0 0 1 0 0 0 0 0]\n",
      " [0 0 0 0 0 0 0 0 0 0 0]\n",
      " [2 0 0 0 0 0 0 0 0 0 0]\n",
      " [0 0 0 0 0 0 0 0 0 0 1]]\n",
      "  (0, 5)\t1\n",
      "  (2, 0)\t2\n",
      "  (3, 10)\t1\n"
     ]
    }
   ],
   "source": [
    "# compressed sparse matrix(csr)\n",
    "from scipy import sparse\n",
    "sparse_matrix = np.array([[0,0,0,0,0,1,0,0,0,0,0],\n",
    "                        [0,0,0,0,0,0,0,0,0,0,0],\n",
    "                        [2,0,0,0,0,0,0,0,0,0,0],\n",
    "                          [0,0,0,0,0,0,0,0,0,0,1]\n",
    "                         ])\n",
    "print(sparse_matrix)\n",
    "sparse_matrix = sparse.csr_matrix(sparse_matrix)\n",
    "print(sparse_matrix)\n",
    "# Other sparse matrices are :\n",
    "#         compressed sparse column, \n",
    "#         list of lists, and \n",
    "#         dictionary of keys."
   ]
  },
  {
   "cell_type": "code",
   "execution_count": 2,
   "metadata": {},
   "outputs": [
    {
     "name": "stdout",
     "output_type": "stream",
     "text": [
      "Selecting all elements from matrix\n",
      " [[ 1  2  3  4  5]\n",
      " [11 12 13 14 15]\n",
      " [21 22 23 24 25]] \n",
      " and from vector\n",
      " [1 2 3 4 5]\n",
      "Being Selective\n",
      "3\n",
      "15\n",
      "[2 3 4]\n",
      "[[ 1  2  3  4  5]\n",
      " [11 12 13 14 15]]\n",
      "[[1 2 3 4 5]]\n",
      "[[ 3  4  5]\n",
      " [13 14 15]\n",
      " [23 24 25]]\n"
     ]
    }
   ],
   "source": [
    "# Selecting elements\n",
    "vector = np.array([1,2,3,4,5])\n",
    "matrix = np.array([[1,2,3,4,5],\n",
    "                  [11,12,13,14,15],\n",
    "                  [21,22,23,24,25]])\n",
    "print(\"Selecting all elements from matrix\\n\",matrix,\"\\n and from vector\\n\",vector)\n",
    "print(\"Being Selective\")\n",
    "print(vector[2])\n",
    "print(matrix[1,4])\n",
    "print(vector[1:4])\n",
    "print(matrix[:2,:]) # first two rows and all cols\n",
    "print(matrix[:-2,:]) # first row and all cols\n",
    "print(matrix[:,2:]) # all rows and all cols from 3rd"
   ]
  },
  {
   "cell_type": "code",
   "execution_count": 28,
   "metadata": {},
   "outputs": [
    {
     "name": "stdout",
     "output_type": "stream",
     "text": [
      "(3, 5)\n",
      "15\n",
      "2\n"
     ]
    }
   ],
   "source": [
    "# Describing a matrix\n",
    "matrix = np.array([[1,2,3,4,5],\n",
    "                  [11,12,13,14,15],\n",
    "                  [21,22,23,24,25]])\n",
    "print(matrix.shape) \n",
    "print(matrix.size)\n",
    "print(matrix.ndim) # number of dimensions"
   ]
  },
  {
   "cell_type": "code",
   "execution_count": 32,
   "metadata": {},
   "outputs": [
    {
     "name": "stdout",
     "output_type": "stream",
     "text": [
      "[[101 102 103 104 105]\n",
      " [111 112 113 114 115]\n",
      " [121 122 123 124 125]]\n",
      "[[101 102 103 104 105]\n",
      " [111 112 113 114 115]\n",
      " [121 122 123 124 125]]\n",
      "[[101 102 103 104 105]\n",
      " [111 112 113 114 115]\n",
      " [121 122 123 124 125]]\n"
     ]
    }
   ],
   "source": [
    "# Arithmetic Operations\n",
    "matrix = np.array([[1,2,3,4,5],\n",
    "                  [11,12,13,14,15],\n",
    "                  [21,22,23,24,25]])\n",
    "add_100 = lambda i : i + 100\n",
    "vectorized_add_100 = np.vectorize(add_100)\n",
    "print(vectorized_add_100(matrix))\n",
    "\n",
    "# OR\n",
    "print(matrix+100)\n",
    "\n",
    "# OR\n",
    "for i in range(matrix.shape[0]):\n",
    "    for j in range(matrix.shape[1]):\n",
    "        matrix[i,j] += 100\n",
    "\n",
    "print(matrix)\n"
   ]
  },
  {
   "cell_type": "code",
   "execution_count": 9,
   "metadata": {},
   "outputs": [
    {
     "name": "stdout",
     "output_type": "stream",
     "text": [
      "Maximum element  5\n",
      "Minimum element  1\n",
      "Maximum element  25\n",
      "Minimum element  1\n",
      "Maximum element in each col  [21 22 23 24 25]\n",
      "Maximum element in each row  [ 5 15 25]\n",
      "Minimum element in each row  [ 1 11 21]\n",
      "Minimum element in each col  [1 2 3 4 5]\n"
     ]
    }
   ],
   "source": [
    "# Max and Min\n",
    "print(\"Maximum element \",np.max(vector))\n",
    "print(\"Minimum element \",np.min(vector))\n",
    "print(\"Maximum element \",np.max(matrix))\n",
    "print(\"Minimum element \",np.min(matrix))\n",
    "print(\"Maximum element in each col \",np.max(matrix, axis = 0)) # axis 0 is col\n",
    "print(\"Maximum element in each row \",np.max(matrix, axis = 1))\n",
    "print(\"Minimum element in each row \",np.min(matrix, axis = 1)) # axis 1 is row\n",
    "print(\"Minimum element in each col \",np.min(matrix, axis = 0))"
   ]
  },
  {
   "cell_type": "code",
   "execution_count": 10,
   "metadata": {},
   "outputs": [
    {
     "name": "stdout",
     "output_type": "stream",
     "text": [
      "13.0\n",
      "68.66666666666667\n",
      "8.286535263104035\n"
     ]
    }
   ],
   "source": [
    "# Average, Variance, Standard Deviation\n",
    "print(np.mean(matrix))\n",
    "print(np.var(matrix))\n",
    "print(np.std(matrix))"
   ]
  },
  {
   "cell_type": "code",
   "execution_count": 13,
   "metadata": {},
   "outputs": [
    {
     "name": "stdout",
     "output_type": "stream",
     "text": [
      "[[ 1  2  3  4  5]\n",
      " [11 12 13 14 15]\n",
      " [21 22 23 24 25]]\n",
      "[[ 1  2  3]\n",
      " [ 4  5 11]\n",
      " [12 13 14]\n",
      " [15 21 22]\n",
      " [23 24 25]]\n",
      "(3, 5)\n",
      "[[ 1]\n",
      " [ 2]\n",
      " [ 3]\n",
      " [ 4]\n",
      " [ 5]\n",
      " [11]\n",
      " [12]\n",
      " [13]\n",
      " [14]\n",
      " [15]\n",
      " [21]\n",
      " [22]\n",
      " [23]\n",
      " [24]\n",
      " [25]]\n",
      "(3, 5)\n"
     ]
    }
   ],
   "source": [
    "# Reshaping a matrix\n",
    "print(matrix)\n",
    "print(matrix.reshape(5,3))\n",
    "print(matrix.shape) # reshaped but not assigned\n",
    "print(matrix.reshape(-1,1)) # -1 in row field indicates as many rows as possible\n",
    "print(matrix.shape) # reshaped but not assigned"
   ]
  },
  {
   "cell_type": "code",
   "execution_count": 24,
   "metadata": {},
   "outputs": [
    {
     "name": "stdout",
     "output_type": "stream",
     "text": [
      "[[ 1  2  3  4  5]\n",
      " [11 12 13 14 15]\n",
      " [21 22 23 24 25]]\n",
      "(3, 5)\n",
      "[[ 1 11 21]\n",
      " [ 2 12 22]\n",
      " [ 3 13 23]\n",
      " [ 4 14 24]\n",
      " [ 5 15 25]]\n",
      "(5, 3)\n",
      "[1 2 3 4 5]\n",
      "[1 2 3 4 5]\n",
      "[[1]\n",
      " [2]\n",
      " [3]\n",
      " [4]\n",
      " [5]]\n"
     ]
    }
   ],
   "source": [
    "# Transpose a matrix\n",
    "print(matrix)\n",
    "print(matrix.shape)\n",
    "print(matrix.T)\n",
    "print((matrix.T).shape)\n",
    "print(vector)\n",
    "print(vector.T) # A vector doesnot transpose\n",
    "print(np.array([vector]).T) # A technique to transpose a vector"
   ]
  },
  {
   "cell_type": "code",
   "execution_count": 26,
   "metadata": {},
   "outputs": [
    {
     "name": "stdout",
     "output_type": "stream",
     "text": [
      "[[ 1  2  3  4  5]\n",
      " [11 12 13 14 15]\n",
      " [21 22 23 24 25]]\n",
      "[ 1  2  3  4  5 11 12 13 14 15 21 22 23 24 25]\n"
     ]
    }
   ],
   "source": [
    "# Flattening a matrix\n",
    "print(matrix)\n",
    "print(matrix.flatten())"
   ]
  },
  {
   "cell_type": "code",
   "execution_count": 31,
   "metadata": {},
   "outputs": [
    {
     "name": "stdout",
     "output_type": "stream",
     "text": [
      "[[1 2 3]\n",
      " [4 5 6]\n",
      " [7 8 9]]\n",
      "2\n",
      "-9.51619735392994e-16\n"
     ]
    }
   ],
   "source": [
    "# Finding Matrix Rank, determinant\n",
    "matrix = np.array([1,2,3,4,5,6,7,8,9])\n",
    "matrix = matrix.reshape(3,3)\n",
    "print(matrix)\n",
    "print(np.linalg.matrix_rank(matrix))\n",
    "print(np.linalg.det(matrix))"
   ]
  },
  {
   "cell_type": "code",
   "execution_count": 36,
   "metadata": {},
   "outputs": [
    {
     "name": "stdout",
     "output_type": "stream",
     "text": [
      "[[1 2 3]\n",
      " [4 5 6]\n",
      " [7 8 9]]\n",
      "[1 5 9]\n",
      "15\n"
     ]
    }
   ],
   "source": [
    "# getting the diagonal of a matrix and trace(sum of diagonal elements)\n",
    "print(matrix)\n",
    "print(matrix.diagonal())\n",
    "print(matrix.trace())"
   ]
  },
  {
   "cell_type": "code",
   "execution_count": 38,
   "metadata": {},
   "outputs": [
    {
     "name": "stdout",
     "output_type": "stream",
     "text": [
      "[[1 2 3]\n",
      " [4 5 6]\n",
      " [7 8 9]]\n",
      "[ 1.61168440e+01 -1.11684397e+00 -9.75918483e-16]\n",
      "[[-0.23197069 -0.78583024  0.40824829]\n",
      " [-0.52532209 -0.08675134 -0.81649658]\n",
      " [-0.8186735   0.61232756  0.40824829]]\n"
     ]
    }
   ],
   "source": [
    "# Finding the Eigen Values and Eigen Vectors\n",
    "print(matrix)\n",
    "matrix_eigen_value, matrix_eigen_vector = np.linalg.eig(matrix)\n",
    "print(matrix_eigen_value)\n",
    "print(matrix_eigen_vector)"
   ]
  },
  {
   "cell_type": "code",
   "execution_count": 40,
   "metadata": {},
   "outputs": [
    {
     "name": "stdout",
     "output_type": "stream",
     "text": [
      "[[1 2 3]\n",
      " [4 5 6]\n",
      " [7 8 9]]\n",
      "[[ 30  36  42]\n",
      " [ 66  81  96]\n",
      " [102 126 150]]\n",
      "[[ 30  36  42]\n",
      " [ 66  81  96]\n",
      " [102 126 150]]\n"
     ]
    }
   ],
   "source": [
    "# Calculating dot products or multiplying two matrices\n",
    "print(matrix)\n",
    "print(np.dot(matrix, matrix))\n",
    "print(matrix @ matrix) # From Python > 3.5, @ is used as an operator to perform a dot operation"
   ]
  },
  {
   "cell_type": "code",
   "execution_count": 43,
   "metadata": {},
   "outputs": [
    {
     "name": "stdout",
     "output_type": "stream",
     "text": [
      "[[1 2 3]\n",
      " [4 5 6]\n",
      " [7 8 9]]\n",
      "[[ 2  4  6]\n",
      " [ 8 10 12]\n",
      " [14 16 18]]\n",
      "[[0 0 0]\n",
      " [0 0 0]\n",
      " [0 0 0]]\n"
     ]
    }
   ],
   "source": [
    "# Adding and Subtracting two matrices\n",
    "print(matrix)\n",
    "print(np.add(matrix, matrix))\n",
    "print(np.subtract(matrix, matrix))"
   ]
  },
  {
   "cell_type": "code",
   "execution_count": 45,
   "metadata": {},
   "outputs": [
    {
     "name": "stdout",
     "output_type": "stream",
     "text": [
      "[[1 2 3]\n",
      " [4 5 6]\n",
      " [7 8 9]]\n",
      "[[ 3.15251974e+15 -6.30503948e+15  3.15251974e+15]\n",
      " [-6.30503948e+15  1.26100790e+16 -6.30503948e+15]\n",
      " [ 3.15251974e+15 -6.30503948e+15  3.15251974e+15]]\n"
     ]
    }
   ],
   "source": [
    "# Inverting a matrix\n",
    "print(matrix)\n",
    "print(np.linalg.inv(matrix)) # Invertion can be done only on a square matrix"
   ]
  },
  {
   "cell_type": "code",
   "execution_count": 55,
   "metadata": {},
   "outputs": [
    {
     "name": "stdout",
     "output_type": "stream",
     "text": [
      "[0.8734294  0.96854066 0.86919454 0.53085569 0.23272833 0.0113988\n",
      " 0.43046882 0.40235136 0.52267467]\n",
      "[172  47 117 192 323 251 195 359   9]\n",
      "[-1.42232584  1.52006949 -0.29139398 -0.13309028 -0.1730696  -1.76165167\n",
      " -0.08767307  1.36687937  1.1253141 ]\n",
      "[-0.67491949  0.61101311 -0.53976806  3.10638027 -1.81237956  1.9017305\n",
      " -0.10566603  1.39199631  0.08195576]\n",
      "[0.67887953 0.72063265 0.58201979 0.53737323 0.75861562 0.10590761\n",
      " 0.47360042 0.18633234 0.73691818]\n"
     ]
    }
   ],
   "source": [
    "# Generatin Random Numbers\n",
    "np.random.seed(8) # Every time it generates the same random sequence for the seed specified\n",
    "matrix = np.array(np.random.random(9))\n",
    "print(matrix)\n",
    "np.random.seed(0)\n",
    "matrix = np.array(np.random.randint(0,500,9)) # Generating 9 random integers in a range (0,500)\n",
    "print(matrix)\n",
    "matrix = np.array(np.random.normal(0.0,1.0,9)) # Draw 9 numbers from a normal distribution with mean = 0.0 and std_dev = 1.0\n",
    "print(matrix)\n",
    "matrix = np.array(np.random.logistic(0.0,1.0,9)) # Draw 9 numbers from a logistic distribution with mean 0.0 and scale of 1.0\n",
    "print(matrix)\n",
    "matrix = np.array(np.random.uniform(0.0,1.0,9)) # Draw 9 numbers greater than 0.0 and less than = 1.0\n",
    "print(matrix)"
   ]
  },
  {
   "cell_type": "code",
   "execution_count": null,
   "metadata": {},
   "outputs": [],
   "source": []
  }
 ],
 "metadata": {
  "kernelspec": {
   "display_name": "Python 3",
   "language": "python",
   "name": "python3"
  },
  "language_info": {
   "codemirror_mode": {
    "name": "ipython",
    "version": 3
   },
   "file_extension": ".py",
   "mimetype": "text/x-python",
   "name": "python",
   "nbconvert_exporter": "python",
   "pygments_lexer": "ipython3",
   "version": "3.7.4"
  }
 },
 "nbformat": 4,
 "nbformat_minor": 2
}
